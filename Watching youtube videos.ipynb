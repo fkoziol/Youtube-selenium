{
 "cells": [
  {
   "cell_type": "code",
   "execution_count": 28,
   "metadata": {},
   "outputs": [],
   "source": [
    "import requests\n",
    "from selenium import webdriver\n",
    "from webdriver_manager.chrome import ChromeDriverManager\n",
    "from selenium.common import exceptions\n",
    "from selenium.webdriver.common.keys import Keys\n",
    "from csv import DictWriter\n",
    "from selenium.webdriver import ActionChains\n",
    "import time"
   ]
  },
  {
   "cell_type": "code",
   "execution_count": 29,
   "metadata": {},
   "outputs": [],
   "source": [
    "#Convert the time lenght of yourube videos into seconds\n",
    "def get_seconds(time_lenght):\n",
    "    if len(time_lenght) <= 5:\n",
    "        m, s = time_lenght.split(':')\n",
    "        h = 0\n",
    "    else:\n",
    "        h, m, s = time_lenght.split(':')\n",
    "    return int(h) * 3600 + int(m) * 60 + int(s)"
   ]
  },
  {
   "cell_type": "code",
   "execution_count": 30,
   "metadata": {},
   "outputs": [],
   "source": [
    "#Create a new browser\n",
    "options = webdriver.ChromeOptions()\n",
    "#Create the directory that will get all the user files\n",
    "options.add_argument(r'--user-data-dir=C:\\Users\\Florent\\Documents\\Code\\Winter school\\User profiles\\Test')\n",
    "#Opens the browser\n",
    "youtube = webdriver.Chrome(options=options)"
   ]
  },
  {
   "cell_type": "code",
   "execution_count": 31,
   "metadata": {},
   "outputs": [],
   "source": [
    "#List all the video links here\n",
    "link_list = []"
   ]
  },
  {
   "cell_type": "code",
   "execution_count": 34,
   "metadata": {},
   "outputs": [],
   "source": [
    "#the count variable will only be used in case of crash so that we don't have to do everything again\n",
    "count = 0\n",
    "\n",
    "while count < len(link_list):\n",
    "    #Checks if anything is collectible. If not, it has crashed, so it will be refreshed\n",
    "    try:\n",
    "        #Gets to the video at the index i\n",
    "        youtube.get(link_list[count])\n",
    "        \n",
    "        #Checks if there is an ad and refresh until there isn't anymore\n",
    "        try:\n",
    "            for i in youtube.find_elements_by_id('container'):\n",
    "                if 'Annonce' in i.text:\n",
    "                    youtube.refresh()\n",
    "                    continue\n",
    "        except:\n",
    "            pass\n",
    "        \n",
    "        #Wait the lenght of the video + 2 seconds just in case it took time to load it\n",
    "        time.sleep(get_seconds(youtube.find_element_by_class_name(\"ytp-time-duration\").text) + 2)\n",
    "        \n",
    "        #Add 1 to the counter before it loops again\n",
    "        count += 1\n",
    "        \n",
    "    except:\n",
    "        youtube.refresh()\n",
    "        time.sleep(3)"
   ]
  }
 ],
 "metadata": {
  "kernelspec": {
   "display_name": "Python 3",
   "language": "python",
   "name": "python3"
  },
  "language_info": {
   "codemirror_mode": {
    "name": "ipython",
    "version": 3
   },
   "file_extension": ".py",
   "mimetype": "text/x-python",
   "name": "python",
   "nbconvert_exporter": "python",
   "pygments_lexer": "ipython3",
   "version": "3.7.7"
  }
 },
 "nbformat": 4,
 "nbformat_minor": 4
}
